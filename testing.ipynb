{
 "cells": [
  {
   "cell_type": "code",
   "execution_count": 87,
   "metadata": {},
   "outputs": [],
   "source": [
    "from selenium import webdriver\n",
    "from selenium.webdriver.chrome.service import Service\n",
    "from webdriver_manager.chrome import ChromeDriverManager\n",
    "from selenium.webdriver.common.by import By\n",
    "from selenium.webdriver.common.keys import Keys\n",
    "from selenium.webdriver.common.action_chains import ActionChains\n",
    "from selenium.webdriver.support.ui import WebDriverWait\n",
    "from selenium.webdriver.support import expected_conditions as EC \n",
    "import time\n",
    "import bs4"
   ]
  },
  {
   "cell_type": "code",
   "execution_count": 141,
   "metadata": {},
   "outputs": [
    {
     "name": "stderr",
     "output_type": "stream",
     "text": [
      "C:\\Users\\MSi\\AppData\\Local\\Temp\\ipykernel_1764\\1852603854.py:11: DeprecationWarning: executable_path has been deprecated, please pass in a Service object\n",
      "  driver = webdriver.Chrome(executable_path='D:\\Github\\coba\\chromedriver.exe',options=opt)\n"
     ]
    },
    {
     "ename": "IndexError",
     "evalue": "list index out of range",
     "output_type": "error",
     "traceback": [
      "\u001b[1;31m---------------------------------------------------------------------------\u001b[0m",
      "\u001b[1;31mIndexError\u001b[0m                                Traceback (most recent call last)",
      "Cell \u001b[1;32mIn [141], line 39\u001b[0m\n\u001b[0;32m     37\u001b[0m \u001b[39mwith\u001b[39;00m \u001b[39mopen\u001b[39m(\u001b[39m'\u001b[39m\u001b[39mshopee_skincare_paganation.csv\u001b[39m\u001b[39m'\u001b[39m,\u001b[39m'\u001b[39m\u001b[39mw\u001b[39m\u001b[39m'\u001b[39m, encoding\u001b[39m=\u001b[39m\u001b[39m\"\u001b[39m\u001b[39mutf-8\u001b[39m\u001b[39m\"\u001b[39m) \u001b[39mas\u001b[39;00m file:\n\u001b[0;32m     38\u001b[0m     \u001b[39mfor\u001b[39;00m i \u001b[39min\u001b[39;00m \u001b[39mrange\u001b[39m (\u001b[39m59\u001b[39m) :\n\u001b[1;32m---> 39\u001b[0m         file\u001b[39m.\u001b[39mwrite(namas[i]\u001b[39m.\u001b[39mtext \u001b[39m+\u001b[39m \u001b[39m\"\u001b[39m\u001b[39m;\u001b[39m\u001b[39m\"\u001b[39m \u001b[39m+\u001b[39m hargas[i]\u001b[39m.\u001b[39mtext \u001b[39m+\u001b[39m \u001b[39m\"\u001b[39m\u001b[39m;\u001b[39m\u001b[39m\"\u001b[39m \u001b[39m+\u001b[39m hargas_diskon[i]\u001b[39m.\u001b[39mtext \u001b[39m+\u001b[39m \u001b[39m\"\u001b[39m\u001b[39m;\u001b[39m\u001b[39m\"\u001b[39m \u001b[39m+\u001b[39m terjuals[i]\u001b[39m.\u001b[39mtext \u001b[39m+\u001b[39m \u001b[39m\"\u001b[39m\u001b[39m\\n\u001b[39;00m\u001b[39m\"\u001b[39m)\n\u001b[0;32m     41\u001b[0m     \u001b[39mnext\u001b[39m \u001b[39m=\u001b[39m driver\u001b[39m.\u001b[39mfind_element(By\u001b[39m.\u001b[39mXPATH,\u001b[39m'\u001b[39m\u001b[39m//*[@id=\u001b[39m\u001b[39m\"\u001b[39m\u001b[39mmain\u001b[39m\u001b[39m\"\u001b[39m\u001b[39m]/div/div[2]/div/div/div[2]/div[3]/div[3]/div/button[8]\u001b[39m\u001b[39m'\u001b[39m)\n\u001b[0;32m     42\u001b[0m     driver\u001b[39m.\u001b[39mexecute_script(\u001b[39m\"\u001b[39m\u001b[39marguments[0].click();\u001b[39m\u001b[39m\"\u001b[39m, \u001b[39mnext\u001b[39m)\n",
      "\u001b[1;31mIndexError\u001b[0m: list index out of range"
     ]
    }
   ],
   "source": [
    "with open('shopee_skincare_paganation.csv','w') as file:\n",
    "    file.write(\"namas; hargas; hargas_diskon; terjuals \\n\")\n",
    "\n",
    "    #webdriver option\n",
    "    opt= webdriver.ChromeOptions()\n",
    "    # opt.add_argument('--no-sandbox')\n",
    "    # opt.add_argument('--headless')\n",
    "    # opt.add_argument('--disable-notifications')\n",
    "    # opt.add_argument('--disable-infobars')\n",
    "\n",
    "    driver = webdriver.Chrome(executable_path='D:\\Github\\coba\\chromedriver.exe',options=opt)\n",
    "    driver.get('https://shopee.co.id/')\n",
    "\n",
    "    time.sleep(1)\n",
    "\n",
    "    #search\n",
    "    search = driver.find_element(By.XPATH,'//*[@id=\"main\"]/div/header/div[2]/div/div[1]/div[1]/div/form/input')\n",
    "    search.send_keys('skincare')\n",
    "    search.send_keys(Keys.ENTER)\n",
    "    time.sleep(5)\n",
    "\n",
    "    #terlaris\n",
    "    terlaris = driver.find_element(By.XPATH,'//*[@id=\"main\"]/div/div[2]/div/div/div[2]/div[3]/div[1]/div[1]/div[3]')\n",
    "    terlaris.click()\n",
    "    time.sleep(1)\n",
    "\n",
    "    driver.execute_script(\"document.body.style.zoom='10%'\")\n",
    "    time.sleep(2)\n",
    "\n",
    "    for k in range (3) :\n",
    "        #ambl semua data di page tsb\n",
    "        namas= driver.find_elements(By.XPATH,'//div[@class=\"ie3A+n bM+7UW Cve6sh\"]')\n",
    "        hargas= driver.find_elements(By.XPATH,'//div[@class=\"hpDKMN\"]')\n",
    "        hargas_diskon= driver.find_elements(By.XPATH,'//span[@class=\"ZEgDH9\"]')\n",
    "        terjuals = driver.find_elements(By.XPATH,'//div[@class=\"r6HknA uEPGHT\"]')\n",
    "\n",
    "        with open('shopee_skincare_paganation.csv','w', encoding=\"utf-8\") as file:\n",
    "            for i in range (59) :\n",
    "                file.write(namas[i].text + \";\" + hargas[i].text + \";\" + hargas_diskon[i].text + \";\" + terjuals[i].text + \"\\n\")\n",
    "\n",
    "            next = driver.find_element(By.XPATH,'//*[@id=\"main\"]/div/div[2]/div/div/div[2]/div[3]/div[3]/div/button[8]')\n",
    "            driver.execute_script(\"arguments[0].click();\", next)\n",
    "            time.sleep(10)        \n",
    "        file.close()\n",
    "driver.close()"
   ]
  }
 ],
 "metadata": {
  "kernelspec": {
   "display_name": "Python 3.10.8 64-bit (microsoft store)",
   "language": "python",
   "name": "python3"
  },
  "language_info": {
   "codemirror_mode": {
    "name": "ipython",
    "version": 3
   },
   "file_extension": ".py",
   "mimetype": "text/x-python",
   "name": "python",
   "nbconvert_exporter": "python",
   "pygments_lexer": "ipython3",
   "version": "3.10.8"
  },
  "orig_nbformat": 4,
  "vscode": {
   "interpreter": {
    "hash": "a58bc082d5b66d578a704a4b61a84d81659cd658b0ff3f8998495d456b02cd7f"
   }
  }
 },
 "nbformat": 4,
 "nbformat_minor": 2
}
