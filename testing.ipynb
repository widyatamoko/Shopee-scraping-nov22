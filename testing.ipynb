{
 "cells": [
  {
   "cell_type": "code",
   "execution_count": 1,
   "metadata": {},
   "outputs": [],
   "source": [
    "from selenium import webdriver\n",
    "from selenium.webdriver.chrome.service import Service\n",
    "from webdriver_manager.chrome import ChromeDriverManager\n",
    "from selenium.webdriver.common.by import By\n",
    "from selenium.webdriver.common.keys import Keys\n",
    "from selenium.webdriver.common.action_chains import ActionChains\n",
    "from selenium.webdriver.support.ui import WebDriverWait\n",
    "from selenium.webdriver.support import expected_conditions as EC \n",
    "import time\n",
    "import bs4"
   ]
  },
  {
   "cell_type": "code",
   "execution_count": 27,
   "metadata": {},
   "outputs": [
    {
     "name": "stderr",
     "output_type": "stream",
     "text": [
      "C:\\Users\\MSi\\AppData\\Local\\Temp\\ipykernel_23068\\4206638647.py:11: DeprecationWarning: executable_path has been deprecated, please pass in a Service object\n",
      "  driver = webdriver.Chrome(executable_path='D:\\Github\\coba\\chromedriver.exe',options=opt)\n"
     ]
    }
   ],
   "source": [
    "with open('shopee_skincare_paganation.csv','w') as file:\n",
    "    file.write(\"nama; harga; harga_diskon; terjual \\n\")\n",
    "\n",
    "    #webdriver option\n",
    "    opt= webdriver.ChromeOptions()\n",
    "    # opt.add_argument('--no-sandbox')\n",
    "    # opt.add_argument('--headless')\n",
    "    # opt.add_argument('--disable-notifications')\n",
    "    # opt.add_argument('--disable-infobars')\n",
    "\n",
    "    driver = webdriver.Chrome(executable_path='D:\\Github\\coba\\chromedriver.exe',options=opt)\n",
    "    driver.get('https://shopee.co.id/')\n",
    "\n",
    "    time.sleep(1)\n",
    "\n",
    "    #search\n",
    "    search = driver.find_element(By.XPATH,'//*[@id=\"main\"]/div/header/div[2]/div/div[1]/div[1]/div/form/input')\n",
    "    search.send_keys('skincare')\n",
    "    search.send_keys(Keys.ENTER)\n",
    "    time.sleep(5)\n",
    "\n",
    "    #terlaris\n",
    "    terlaris = driver.find_element(By.XPATH,'//*[@id=\"main\"]/div/div[2]/div/div/div[2]/div[3]/div[1]/div[1]/div[3]')\n",
    "    terlaris.click()\n",
    "    time.sleep(1)\n",
    "\n",
    "    driver.execute_script(\"document.body.style.zoom='10%'\")\n",
    "    time.sleep(2)\n",
    "\n",
    "    for k in range (3) :\n",
    "        #ambl semua data di page tsb\n",
    "        namas= driver.find_elements(By.XPATH,'//div[@class=\"ie3A+n bM+7UW Cve6sh\"]')\n",
    "        hargas= driver.find_elements(By.XPATH,'//div[@class=\"hpDKMN\"]')\n",
    "        hargas_diskon= driver.find_elements(By.XPATH,'//span[@class=\"ZEgDH9\"]')\n",
    "        terjuals = driver.find_elements(By.XPATH,'//div[@class=\"r6HknA uEPGHT\"]')\n",
    "\n",
    "        with open('shopee_skincare_paganation.csv','a', encoding=\"utf-8\") as file:\n",
    "            for i in range (len(namas)-2) :\n",
    "                file.write(namas[i].text + \";\" + hargas[i].text + \";\" + hargas_diskon[i].text + \";\" + terjuals[i].text + \"\\n\")\n",
    "\n",
    "            next = driver.find_element(By.XPATH,'//*[@id=\"main\"]/div/div[2]/div/div/div[2]/div[3]/div[3]/div/button[8]')\n",
    "            driver.execute_script(\"arguments[0].click();\", next)\n",
    "            time.sleep(15)        \n",
    "        file.close()\n",
    "driver.close()"
   ]
  },
  {
   "cell_type": "code",
   "execution_count": 11,
   "metadata": {},
   "outputs": [
    {
     "name": "stdout",
     "output_type": "stream",
     "text": [
      "SKINTIFIC 3 pcs Paket Skincare with toner - 4D Hyaluronic Acid (HA) Barrier Essence Toner & 5X Ceramide Barrier Repair Moisturize Gel & 10% Niacinamide Brightening Serum 20Ml & 5% Aha Bha Pha Exfoliating Toner & 5X Ceramide Soothing Toner 80ml\n",
      "(READY)GOLD SERIES | davienaskincare | distributordaviena\n",
      "Joar Skincare Paket Brighteninng Sabun / Soap Bar + Fresh Toner + Night Cream + Day Cream - Original BPOM HALAL Official Shop\n",
      "paket Glowing Skincare Reglow By dr.Shindy Untuk semua jenis kulit\n",
      "YOU AcnePlus Spot Care Acne Treatment | 4D Centella Asiatica Niacinamide Herbal Obat Jerawat Totol Jerawat\n",
      "BENINGS SKINCARE BY DR.OKY PRATAMA PAKET BRIGHTENING (BENINGS CLINIC) PAKET PENCERAH DAN GLOWING\n",
      "DAVIENA SKINCARE GOLD SERIES |DISTRIBUTOR DAVIENA|OFFICIAL STORE|DAVIENASKINCARE|davienaskincareofficial|davienaofficialstore|ramadhanidavin|davienaskincaresemarang|davienaskincarejogja|davienaskincaresurabaya|davienaskincarejakarta|davienaofficialdepok\n",
      "BEBWHITE C SKINCARE Paket Glow / Paket Acne Original BBC Bbwhite Bebwhite Glow Forte Memudarkan Flek dan Bekas Jerawat Bb White Day Cream Bebwhite c Totol Acne Jerawat BBC Night Cream Glow Acne Bebwhite c Facial Wash Toner BBC BB white Serum Vit C COD\n",
      "☘️ CHAROZA ☘️ HANASUI Paket Skincare Flawless Glow Cleanser / Essence/ Day Cream / Night Cream | Acne Treatment Night Cream\n",
      "COSRX Low pH Good Morning Gel Cleanser - 150 ml - pembersih wajah - Skincare\n",
      "BENING'S SKINCARE DR. OKY PRATAMA NIGHT CREAM BRIGHTENING/EXLUSIVE/ACNE\n",
      "L'Oreal Paris Aura Perfect Milky Foam Purifying and Brigthening Skin Care Facial Wash - 50 ml\n",
      "BRILIANT SKINCARE PAKET REJUVENATING KEMASAN TERBARU\n",
      "[WAJIB KONSULTASI] ORIGINAL BPOM SB SKINCARE || ORI BPOM SB PAKET KHUSUS RESELLER\n",
      "MAXIE SKINCARE BPOM KEMASAN TERBARU ORIGINAL\n",
      "AMR GLOW SKINCARE BPOM ORIGINAL 100%\n",
      "PAKET SKINCARE/PELICIN PEMUTIH WAJAH NRGLOW PUTIH CEPAT GLOWING\n",
      "PAKET GLOWING GLOW KRIM PAGI MALAM WHITENING CREAM WAJAH FACE CARE SKINCARE ROUTINE BPOM HALAL AMPUH AMAN TERBAIK TERLARIS DI SHOPEE BEST SELLER ORIGINAL PERAWATAN WAJAH MUKA HALUS MULUS BENING KINCLONG AMPUH REAL TESTI HASIL NYATA KOREAN SKINCARE ORI\n",
      "Madame Gie Madame Clarify Facial Foam - Skin Care Pembersih Wajah\n",
      "DAVIENA SKINCARE ACNE SERIES DAVIENASKINCARE ACNE SERIES DAVIENASKINCAREOFFICIAL OFFICIAL STORE\n",
      "HANASUI FLAWLESS GLOW 10 SET + POUCH / HANASUI SKINCARE FLAWLESS GLOW / HANASUI SKINCARE\n",
      "(Pusat Jawa)Daviena Skincare|GOLD SERIES|PEMUTIH WAJAH BPOM DAVIENA SKINCARE|DAVINA SKINCARE\n",
      "Promo Bening's Brightening Skincare Special | Paketan Pencerah dan Glowing Khusus Ibu Hamil dan Menyusui\n",
      "Garnier Men Acne Fighting Kit Skin Care (Perawatan Pria Untuk Kulit Cerah Bebas Jerawat)\n",
      "PAKET NORMAL SWF Skincare ORIGINAL 100%\n",
      "N'glow Skincare Nglow Skincare 100% Origional\n",
      "Wardah Lightening Paket Lengkap | Paket Skincare Wardah Lightening | Wardah Lightening Series | ORIGINAL | BPOM\n",
      "(GRANSI ORIGINAL 1000%) Dinda skincare / Cream DN\n",
      "[WAJIB KONSULTASI] BPOM SB PREMIUM SKINCARE|| PREMIUM SKINCARE S BEAUTY|| SINATA CARE\n",
      "REAL WHITE Alpha Arbutin Serum | BPOM HALAL Skincare Whitening Brightening Pemutih Pencerah Memutihkan Mencerahkan Kulit Wajah PIE PIH Skin Barrier Menghilangkan Flek Noda Hitam Bekas Jerawat Pelicin Bening Apotek Farmasi Klinik Dokter Perawatan Glowing\n",
      "Anzora Skincare (Paket Glow normal kering kusam) (paket renewal normal kering flek) (paket acne sensitif berminyak jerawatan) (paket remover darksport sensitif bekas berminyak jerawat) free gift\n",
      "•Beauty• Paket Skincare Yeppu-Yeppu By Kiyowo Travel Size BPOM Halal Paket Skincare Acne Treatment Dan Hello Brightening Perawatan BPOM YeppuYeppu By Kiyowo Yeppu Yeppu By Kiyowo Skincare Travelsize Package\n",
      "PAKET GLOWING SERIES | DAVIENA SKINCARE\n",
      "SOMETHINC [3 PCS] Paket Best Seller Skincare - Glowing (Niacinamide & Skin Goals) - Berjerawat (2% BHA Salicylic Acid & Acnedot Series) - Lembap Terhidrasi (Hyaluronic Serum)\n",
      "Ella Skincare Paket Kulit Glowing - Pancarkan Kulit Cerah & Glowingmu Dalam 14 Hari\n",
      "REAL WHITE Niacinamide + Collagen Brightening Face Serum | BPOM HALAL Skincare Whitening Pemutih Pencerah Memutihkan Mencerahkan Kulit Wajah PIE PIH Skin Barrier Menghilangkan Flek Noda Bekas Jerawat Apotek Farmasi Klinik Dokter Perawatan Glowing\n",
      "Paket cream VIRAL RETINOL WSC Organic cream wajah flek jerawat skincare glowing series viral\n",
      "Paket Skincare Perawatan Pencerah pemutih Pelicin Wajah Reglow untuk mengatasi kulit berjerawat, flek hitam, kering, skin barier, mencerahkan dan glowing | Niacinamide | Centella asiatica | Allantoin | aman bumil busui ampuh pria cowok BPOM\n",
      "COSRX Centella Water Alcohol-Free Toner Skin Care - 150 ML (Toner Untuk Kulit Sensitif & Iritasi)\n",
      "(PUSAT JAWA) Daviena Skincare | GLOWING SERIES |PEMUTIH WAJAH BPOM|DAVINA SKINCARE\n",
      "L'Oreal Paris Aura Perfect Whip Foam 100 ml - 2 Pcs -Skincare Facial Cleanser Wash Loreal\n",
      "DAVIENA SKINCARE ACNE | DAVIENASKINCAREOFFICIAL | DAVIENA | DAVIENA SKINCARE SURABAYA\n",
      "DAVIENA SKINCARE PAKET GLOWING SERIES | OFFICIAL STORE\n",
      "PAKET LASONA SKIN CARE ( JAMINAN ORIGINAL MALAYSIA )\n",
      "BENINGS SKINCARE BY DR.OKY PRATAMA PAKET ACNE / OILY (BENINGS CLINIC) PAKETAN JERAWAT BERMINYAK DAN BERUNTUSAN\n",
      "Bening's Brightening Skincare Travel Size | Paketan Pencerah dan Glowing\n",
      "EGLOW PLATINUM SKINCARE BPOM WHITENING GLOW / ACNE ORIGINAL\n",
      "[COD] PAKET CREAM CLB GLOW SKINCARE Bisan Scand BERCODE Cream Wajah Putih Glowing Termurah Berkwalitas\n",
      "DAVIENA SKINCARE JAKARTA GOLD SERIES (DARKSPOT) davienaskincarejakarta vidbeauty davienaskincare.official davienaskincarejabodetabek\n",
      "Bening's Skincare Paket Brightening Paket Acne Paket Exclusive By Dr.Oky Pratama Whitening, Acne, Exclusive Bening Benings Glowing\n",
      "BENING'S SKINCARE DR. OKY PRATAMA FACIAL WASH BRIGHTENING/EXCLUSIVE/ACNE\n",
      "DAVIENA SKINCARE GOLD SERIES | BANJARMASIN | DAVIENASKINCARE |\n",
      "NAHDA SKINCARE / NAHDA SKINCARE KEMASAN BARU SERUM\n",
      "BENING'S SKINCARE DR. OKY PRATAMA DAY CREAM BRIGHTENING/EXLUSIVE/ACNE\n",
      "Garnier Sakura Glow Hyaluron Super Whip Foam Skin Care - 100 ml Facial Wash Busa Lembut Glowing\n",
      "Bening Skincare Dr Oky Pratama Serum Whitening Glowing Perawatan Mencerahkan Wajah By Sarasbeautyofficial\n",
      "White Story Paket Wajah Brightening & Serum\n",
      "Joar Skincare Paket Serum + Fresh Toner + Night Cream + Day Cream - Original BPOM HALAL Official Shop\n",
      "Caudalie Vinopure Set 2022\n",
      "Joar Skincare Paket Brightening Night Care ( Sabun / Soap Bar + Serum + Fresh Toner + Night Cream ) Original BPOM HALAL Official Shop\n"
     ]
    }
   ],
   "source": []
  }
 ],
 "metadata": {
  "kernelspec": {
   "display_name": "Python 3.10.8 64-bit (microsoft store)",
   "language": "python",
   "name": "python3"
  },
  "language_info": {
   "codemirror_mode": {
    "name": "ipython",
    "version": 3
   },
   "file_extension": ".py",
   "mimetype": "text/x-python",
   "name": "python",
   "nbconvert_exporter": "python",
   "pygments_lexer": "ipython3",
   "version": "3.10.8"
  },
  "orig_nbformat": 4,
  "vscode": {
   "interpreter": {
    "hash": "a58bc082d5b66d578a704a4b61a84d81659cd658b0ff3f8998495d456b02cd7f"
   }
  }
 },
 "nbformat": 4,
 "nbformat_minor": 2
}
